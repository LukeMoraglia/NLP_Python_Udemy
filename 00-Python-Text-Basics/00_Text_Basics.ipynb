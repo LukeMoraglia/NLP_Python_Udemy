{
 "cells": [
  {
   "cell_type": "code",
   "execution_count": 2,
   "id": "ae6ef580",
   "metadata": {},
   "outputs": [],
   "source": [
    "name = \"Luke\""
   ]
  },
  {
   "cell_type": "code",
   "execution_count": 3,
   "id": "d748a5b5",
   "metadata": {},
   "outputs": [
    {
     "name": "stdout",
     "output_type": "stream",
     "text": [
      "my name is Luke\n"
     ]
    }
   ],
   "source": [
    "print(\"my name is {}\".format(name)) #old way before 3.6"
   ]
  },
  {
   "cell_type": "code",
   "execution_count": 5,
   "id": "1321af63",
   "metadata": {},
   "outputs": [
    {
     "name": "stdout",
     "output_type": "stream",
     "text": [
      "My name is Luke\n"
     ]
    }
   ],
   "source": [
    "# with f strings\n",
    "print(f\"My name is {name}\")"
   ]
  },
  {
   "cell_type": "code",
   "execution_count": 7,
   "id": "b8c4e82e",
   "metadata": {},
   "outputs": [
    {
     "name": "stdout",
     "output_type": "stream",
     "text": [
      "My name is {name}\n"
     ]
    }
   ],
   "source": [
    "# don't forget the f\n",
    "print(\"My name is {name}\")"
   ]
  },
  {
   "cell_type": "code",
   "execution_count": 8,
   "id": "bc9024ea",
   "metadata": {},
   "outputs": [
    {
     "name": "stdout",
     "output_type": "stream",
     "text": [
      "number is 123\n"
     ]
    }
   ],
   "source": [
    "d = {'a':123,'b':456}\n",
    "print(f\"number is {d['a']}\")"
   ]
  },
  {
   "cell_type": "code",
   "execution_count": 12,
   "id": "3383f0d2",
   "metadata": {},
   "outputs": [
    {
     "data": {
      "text/plain": [
       "[('Author', 'Topic', 'Pages'),\n",
       " ('Twain', 'Rafting in water alone', 601),\n",
       " ('Feynman', 'Physics', 95),\n",
       " ('Hamilton', 'Mythology', 144)]"
      ]
     },
     "execution_count": 12,
     "metadata": {},
     "output_type": "execute_result"
    }
   ],
   "source": [
    "library = [('Author', 'Topic', 'Pages'), \n",
    "           ('Twain', 'Rafting in water alone', 601),\n",
    "           ('Feynman', 'Physics', 95), \n",
    "           ('Hamilton', 'Mythology', 144)]\n",
    "library"
   ]
  },
  {
   "cell_type": "code",
   "execution_count": 17,
   "id": "0c9b5a58",
   "metadata": {},
   "outputs": [
    {
     "name": "stdout",
     "output_type": "stream",
     "text": [
      "Author     Topic                          %%%%%Pages\n",
      "Twain      Rafting in water alone         %%%%%%%601\n",
      "Feynman    Physics                        %%%%%%%%95\n",
      "Hamilton   Mythology                      %%%%%%%144\n"
     ]
    }
   ],
   "source": [
    "for author, topic, pages in library:\n",
    "    print(f\"{author:{10}} {topic:{30}} {pages:%>{10}}\")"
   ]
  },
  {
   "cell_type": "code",
   "execution_count": 18,
   "id": "e496136f",
   "metadata": {},
   "outputs": [],
   "source": [
    "from datetime import datetime"
   ]
  },
  {
   "cell_type": "code",
   "execution_count": 19,
   "id": "067d2e5b",
   "metadata": {},
   "outputs": [
    {
     "name": "stdout",
     "output_type": "stream",
     "text": [
      "2023-06-16 00:00:00\n"
     ]
    }
   ],
   "source": [
    "today = datetime(year=2023, month=6, day=16)\n",
    "print(f\"{today}\")"
   ]
  },
  {
   "cell_type": "code",
   "execution_count": 20,
   "id": "449a882a",
   "metadata": {},
   "outputs": [
    {
     "data": {
      "text/plain": [
       "datetime.datetime(2023, 6, 16, 0, 0)"
      ]
     },
     "execution_count": 20,
     "metadata": {},
     "output_type": "execute_result"
    }
   ],
   "source": [
    "today"
   ]
  },
  {
   "cell_type": "code",
   "execution_count": 21,
   "id": "0920a71c",
   "metadata": {},
   "outputs": [
    {
     "name": "stdout",
     "output_type": "stream",
     "text": [
      "June 16, 2023\n"
     ]
    }
   ],
   "source": [
    "#strftime.org\n",
    "print(f\"{today:%B %d, %Y}\")"
   ]
  },
  {
   "cell_type": "markdown",
   "id": "0f452f04",
   "metadata": {},
   "source": [
    "#### Read and write to text files\n",
    "First method is magic command for Jupyter"
   ]
  },
  {
   "cell_type": "code",
   "execution_count": 22,
   "id": "5eba1570",
   "metadata": {},
   "outputs": [
    {
     "name": "stdout",
     "output_type": "stream",
     "text": [
      "Writing test_LM.txt\n"
     ]
    }
   ],
   "source": [
    "%%writefile test_LM.txt\n",
    "Hello, this is a test file written by Luke.\n",
    "Second line is here!"
   ]
  },
  {
   "cell_type": "code",
   "execution_count": 23,
   "id": "a50d25ed",
   "metadata": {},
   "outputs": [
    {
     "ename": "FileNotFoundError",
     "evalue": "[Errno 2] No such file or directory: 'filenothere.txt'",
     "output_type": "error",
     "traceback": [
      "\u001b[1;31m---------------------------------------------------------------------------\u001b[0m",
      "\u001b[1;31mFileNotFoundError\u001b[0m                         Traceback (most recent call last)",
      "\u001b[1;32m~\\AppData\\Local\\Temp\\ipykernel_14268\\3346426504.py\u001b[0m in \u001b[0;36m<module>\u001b[1;34m\u001b[0m\n\u001b[1;32m----> 1\u001b[1;33m \u001b[0mmyfile\u001b[0m \u001b[1;33m=\u001b[0m \u001b[0mopen\u001b[0m\u001b[1;33m(\u001b[0m\u001b[1;34m\"filenothere.txt\"\u001b[0m\u001b[1;33m)\u001b[0m\u001b[1;33m\u001b[0m\u001b[1;33m\u001b[0m\u001b[0m\n\u001b[0m",
      "\u001b[1;31mFileNotFoundError\u001b[0m: [Errno 2] No such file or directory: 'filenothere.txt'"
     ]
    }
   ],
   "source": [
    "myfile = open(\"filenothere.txt\") #when you ask for a wrong file"
   ]
  },
  {
   "cell_type": "code",
   "execution_count": 25,
   "id": "cf100ab2",
   "metadata": {},
   "outputs": [],
   "source": [
    "myfile = open(\"test_LM.txt\")"
   ]
  },
  {
   "cell_type": "code",
   "execution_count": 26,
   "id": "078270ea",
   "metadata": {},
   "outputs": [
    {
     "data": {
      "text/plain": [
       "<_io.TextIOWrapper name='test_LM.txt' mode='r' encoding='cp1252'>"
      ]
     },
     "execution_count": 26,
     "metadata": {},
     "output_type": "execute_result"
    }
   ],
   "source": [
    "myfile"
   ]
  },
  {
   "cell_type": "code",
   "execution_count": 27,
   "id": "c1184d5a",
   "metadata": {},
   "outputs": [
    {
     "data": {
      "text/plain": [
       "'Hello, this is a test file written by Luke.\\nSecond line is here!\\n'"
      ]
     },
     "execution_count": 27,
     "metadata": {},
     "output_type": "execute_result"
    }
   ],
   "source": [
    "myfile.read()"
   ]
  },
  {
   "cell_type": "code",
   "execution_count": 28,
   "id": "a2329164",
   "metadata": {},
   "outputs": [
    {
     "data": {
      "text/plain": [
       "''"
      ]
     },
     "execution_count": 28,
     "metadata": {},
     "output_type": "execute_result"
    }
   ],
   "source": [
    "myfile.read() #cursor is at the end"
   ]
  },
  {
   "cell_type": "code",
   "execution_count": 29,
   "id": "615029c0",
   "metadata": {},
   "outputs": [
    {
     "data": {
      "text/plain": [
       "0"
      ]
     },
     "execution_count": 29,
     "metadata": {},
     "output_type": "execute_result"
    }
   ],
   "source": [
    "myfile.seek(0) #reset cursor to start"
   ]
  },
  {
   "cell_type": "code",
   "execution_count": 30,
   "id": "0ea11f16",
   "metadata": {},
   "outputs": [
    {
     "data": {
      "text/plain": [
       "'Hello, this is a test file written by Luke.\\nSecond line is here!\\n'"
      ]
     },
     "execution_count": 30,
     "metadata": {},
     "output_type": "execute_result"
    }
   ],
   "source": [
    "myfile.read()"
   ]
  },
  {
   "cell_type": "code",
   "execution_count": 31,
   "id": "08851d9c",
   "metadata": {},
   "outputs": [
    {
     "data": {
      "text/plain": [
       "0"
      ]
     },
     "execution_count": 31,
     "metadata": {},
     "output_type": "execute_result"
    }
   ],
   "source": [
    "myfile.seek(0)"
   ]
  },
  {
   "cell_type": "code",
   "execution_count": 32,
   "id": "5f2af608",
   "metadata": {},
   "outputs": [],
   "source": [
    "content = myfile.read()"
   ]
  },
  {
   "cell_type": "code",
   "execution_count": 33,
   "id": "6049ad49",
   "metadata": {},
   "outputs": [
    {
     "name": "stdout",
     "output_type": "stream",
     "text": [
      "Hello, this is a test file written by Luke.\n",
      "Second line is here!\n",
      "\n"
     ]
    }
   ],
   "source": [
    "print(content)"
   ]
  },
  {
   "cell_type": "code",
   "execution_count": 34,
   "id": "7dd44c9c",
   "metadata": {},
   "outputs": [
    {
     "data": {
      "text/plain": [
       "'Hello, this is a test file written by Luke.\\nSecond line is here!\\n'"
      ]
     },
     "execution_count": 34,
     "metadata": {},
     "output_type": "execute_result"
    }
   ],
   "source": [
    "content"
   ]
  },
  {
   "cell_type": "code",
   "execution_count": 35,
   "id": "8a00bb3b",
   "metadata": {},
   "outputs": [],
   "source": [
    "myfile.close()"
   ]
  },
  {
   "cell_type": "code",
   "execution_count": 36,
   "id": "5342bc1f",
   "metadata": {},
   "outputs": [],
   "source": [
    "myfile = open(\"test_LM.txt\")"
   ]
  },
  {
   "cell_type": "code",
   "execution_count": 37,
   "id": "ece93a48",
   "metadata": {},
   "outputs": [
    {
     "data": {
      "text/plain": [
       "['Hello, this is a test file written by Luke.\\n', 'Second line is here!\\n']"
      ]
     },
     "execution_count": 37,
     "metadata": {},
     "output_type": "execute_result"
    }
   ],
   "source": [
    "myfile.readlines()"
   ]
  },
  {
   "cell_type": "code",
   "execution_count": 38,
   "id": "0b76b12b",
   "metadata": {},
   "outputs": [
    {
     "data": {
      "text/plain": [
       "0"
      ]
     },
     "execution_count": 38,
     "metadata": {},
     "output_type": "execute_result"
    }
   ],
   "source": [
    "myfile.seek(0)"
   ]
  },
  {
   "cell_type": "code",
   "execution_count": 39,
   "id": "fed4cff1",
   "metadata": {},
   "outputs": [],
   "source": [
    "mylines = myfile.readlines()"
   ]
  },
  {
   "cell_type": "code",
   "execution_count": 40,
   "id": "1ac04e4a",
   "metadata": {},
   "outputs": [
    {
     "name": "stdout",
     "output_type": "stream",
     "text": [
      "Hello,\n",
      "Second\n"
     ]
    }
   ],
   "source": [
    "for line in mylines:\n",
    "    print(line.split()[0])"
   ]
  },
  {
   "cell_type": "code",
   "execution_count": 41,
   "id": "b1495900",
   "metadata": {},
   "outputs": [],
   "source": [
    "myfile = open(\"test_LM.txt\", \"w+\") #w+ overwrites file"
   ]
  },
  {
   "cell_type": "code",
   "execution_count": 42,
   "id": "5bf43a65",
   "metadata": {},
   "outputs": [
    {
     "data": {
      "text/plain": [
       "''"
      ]
     },
     "execution_count": 42,
     "metadata": {},
     "output_type": "execute_result"
    }
   ],
   "source": [
    "myfile.read()"
   ]
  },
  {
   "cell_type": "code",
   "execution_count": 44,
   "id": "1e526e27",
   "metadata": {},
   "outputs": [
    {
     "data": {
      "text/plain": [
       "19"
      ]
     },
     "execution_count": 44,
     "metadata": {},
     "output_type": "execute_result"
    }
   ],
   "source": [
    "myfile.write(\"Brand new text here\")"
   ]
  },
  {
   "cell_type": "code",
   "execution_count": 45,
   "id": "0192df64",
   "metadata": {},
   "outputs": [
    {
     "data": {
      "text/plain": [
       "0"
      ]
     },
     "execution_count": 45,
     "metadata": {},
     "output_type": "execute_result"
    }
   ],
   "source": [
    "myfile.seek(0)"
   ]
  },
  {
   "cell_type": "code",
   "execution_count": 46,
   "id": "9c640732",
   "metadata": {},
   "outputs": [
    {
     "data": {
      "text/plain": [
       "'Brand new text here'"
      ]
     },
     "execution_count": 46,
     "metadata": {},
     "output_type": "execute_result"
    }
   ],
   "source": [
    "myfile.read()"
   ]
  },
  {
   "cell_type": "code",
   "execution_count": 47,
   "id": "55d6de00",
   "metadata": {},
   "outputs": [],
   "source": [
    "myfile.close()"
   ]
  },
  {
   "cell_type": "code",
   "execution_count": 48,
   "id": "54a7c8c3",
   "metadata": {},
   "outputs": [],
   "source": [
    "# append to a file\n",
    "myfile = open(\"test_LM.txt\", \"a+\")"
   ]
  },
  {
   "cell_type": "code",
   "execution_count": 49,
   "id": "c4c4b6a9",
   "metadata": {},
   "outputs": [
    {
     "data": {
      "text/plain": [
       "22"
      ]
     },
     "execution_count": 49,
     "metadata": {},
     "output_type": "execute_result"
    }
   ],
   "source": [
    "myfile.write(\"my dog's name is Emily\")"
   ]
  },
  {
   "cell_type": "code",
   "execution_count": 50,
   "id": "b6e5d77c",
   "metadata": {},
   "outputs": [],
   "source": [
    "myfile.close()"
   ]
  },
  {
   "cell_type": "code",
   "execution_count": 51,
   "id": "546dc773",
   "metadata": {},
   "outputs": [],
   "source": [
    "myfile = open(\"test_LM.txt\")"
   ]
  },
  {
   "cell_type": "code",
   "execution_count": 52,
   "id": "78ca953e",
   "metadata": {},
   "outputs": [
    {
     "data": {
      "text/plain": [
       "\"Brand new text heremy dog's name is Emily\""
      ]
     },
     "execution_count": 52,
     "metadata": {},
     "output_type": "execute_result"
    }
   ],
   "source": [
    "myfile.read()"
   ]
  },
  {
   "cell_type": "code",
   "execution_count": 53,
   "id": "a2a3319c",
   "metadata": {},
   "outputs": [],
   "source": [
    "myfile.close()"
   ]
  },
  {
   "cell_type": "code",
   "execution_count": 54,
   "id": "fe518fcf",
   "metadata": {},
   "outputs": [],
   "source": [
    "with open(\"test_LM.txt\", \"r\") as mynewfile:\n",
    "    lines = mynewfile.readlines()"
   ]
  },
  {
   "cell_type": "code",
   "execution_count": 55,
   "id": "73767bcb",
   "metadata": {},
   "outputs": [
    {
     "data": {
      "text/plain": [
       "[\"Brand new text heremy dog's name is Emily\"]"
      ]
     },
     "execution_count": 55,
     "metadata": {},
     "output_type": "execute_result"
    }
   ],
   "source": [
    "# file was automatically closed\n",
    "lines"
   ]
  },
  {
   "cell_type": "markdown",
   "id": "6b93e7d5",
   "metadata": {},
   "source": [
    "#### Working with PDF files\n",
    "Most of the instructions in the course are deprecated with PyPDF2 3.0.0"
   ]
  },
  {
   "cell_type": "code",
   "execution_count": 1,
   "id": "285d0833",
   "metadata": {},
   "outputs": [],
   "source": [
    "import PyPDF2"
   ]
  },
  {
   "cell_type": "code",
   "execution_count": 2,
   "id": "c084d7fc",
   "metadata": {},
   "outputs": [],
   "source": [
    "myfile = open('US_Declaration.pdf', mode='rb')"
   ]
  },
  {
   "cell_type": "code",
   "execution_count": 4,
   "id": "62e3e438",
   "metadata": {},
   "outputs": [],
   "source": [
    "pdf_reader = PyPDF2.PdfReader(myfile)"
   ]
  },
  {
   "cell_type": "code",
   "execution_count": 6,
   "id": "5c3d795c",
   "metadata": {},
   "outputs": [
    {
     "data": {
      "text/plain": [
       "5"
      ]
     },
     "execution_count": 6,
     "metadata": {},
     "output_type": "execute_result"
    }
   ],
   "source": [
    "len(pdf_reader.pages)"
   ]
  },
  {
   "cell_type": "code",
   "execution_count": 8,
   "id": "ef3c70fa",
   "metadata": {},
   "outputs": [],
   "source": [
    "page_one = pdf_reader.pages[0]"
   ]
  },
  {
   "cell_type": "code",
   "execution_count": 10,
   "id": "180bd600",
   "metadata": {},
   "outputs": [],
   "source": [
    "mytext = page_one.extract_text()"
   ]
  },
  {
   "cell_type": "code",
   "execution_count": 11,
   "id": "596738c6",
   "metadata": {},
   "outputs": [
    {
     "name": "stdout",
     "output_type": "stream",
     "text": [
      "Declaration of Independence\n",
      "IN CONGRESS, July 4, 1776.  \n",
      "The unanimous Declaration of the thirteen united States of America,  \n",
      "When in the Course of human events, it becomes necessary for one people to dissolve thepolitical bands which have connected them with another, and to assume among the powers of theearth, the separate and equal station to which the Laws of Nature and of Nature's God entitlethem, a decent respect to the opinions of mankind requires that they should declare the causeswhich impel them to the separation. We hold these truths to be self-evident, that all men are created equal, that they are endowed bytheir Creator with certain unalienable Rights, that among these are Life, Liberty and the pursuit\n",
      "of Happiness.— \u0014That to secure these rights, Governments are instituted among Men, derivingtheir just powers from the consent of the governed,—  \u0014That whenever any Form of Government\n",
      "becomes destructive of these ends, it is the Right of the People to alter or to abolish it, and to\n",
      "institute new Government, laying its foundation on such principles and organizing its powers in\n",
      "such form, as to them shall seem most likely to effect their Safety and Happiness. Prudence,indeed, will dictate that Governments long established should not be changed for light andtransient causes; and accordingly all experience hath shewn, that mankind are more disposed to\n",
      "suffer, while evils are sufferable, than to right themselves by abolishing the forms to which theyare accustomed. But when a long train of abuses and usurpations, pursuing invariably the same\n",
      "Object evinces a design to reduce them under absolute Despotism, it is their right, it is their duty,\n",
      "to throw off such Government, and to provide new Guards for their future securit y.— \u0014Such has\n",
      "been the patient sufferance of these Colonies; and such is now the necessity which constrainsthem to alter their former Systems of Government. The history of the present King of GreatBritain is a history of repeated injuries and usurpations, all having in direct object the\n",
      "establishment of an absolute Tyranny over these States. To prove this, let Facts be submitted to a\n",
      "candid world. \n",
      "He has refused his Assent to Laws, the most wholesome and necessary for the\n",
      "public good.He has forbidden his Governors to pass Laws of immediate and pressingimportance, unless suspended in their operation till his Assent should be obtained;and when so suspended, he has utterly neglected to attend to them.He has refused to pass other Laws for the accommodation of large districts of\n",
      "people, unless those people would relinquish the right of Representation in theLegislature, a right inestimable to them and formidable to tyrants only. He has called together legislative bodies at places unusual, uncomfortable, and distantfrom the depository of their public Records, for the sole purpose of fatiguing them into\n",
      "compliance with his measures.\n"
     ]
    }
   ],
   "source": [
    "print(mytext)"
   ]
  },
  {
   "cell_type": "code",
   "execution_count": 12,
   "id": "f25fa370",
   "metadata": {},
   "outputs": [],
   "source": [
    "myfile.close()"
   ]
  },
  {
   "cell_type": "code",
   "execution_count": 13,
   "id": "8cb8c9d7",
   "metadata": {},
   "outputs": [],
   "source": [
    "f = open('US_Declaration.pdf', 'rb')"
   ]
  },
  {
   "cell_type": "code",
   "execution_count": 14,
   "id": "5785191f",
   "metadata": {},
   "outputs": [],
   "source": [
    "pdf_reader = PyPDF2.PdfReader(f)"
   ]
  },
  {
   "cell_type": "code",
   "execution_count": 16,
   "id": "9300853f",
   "metadata": {},
   "outputs": [],
   "source": [
    "first_page = pdf_reader.pages[0]"
   ]
  },
  {
   "cell_type": "code",
   "execution_count": 17,
   "id": "1142c2ac",
   "metadata": {},
   "outputs": [],
   "source": [
    "pdf_writer = PyPDF2.PdfWriter()"
   ]
  },
  {
   "cell_type": "code",
   "execution_count": 19,
   "id": "77fcb4db",
   "metadata": {},
   "outputs": [
    {
     "data": {
      "text/plain": [
       "{'/Type': '/Page',\n",
       " '/Contents': {},\n",
       " '/MediaBox': [0, 0, 612, 792],\n",
       " '/Resources': {'/Font': {'/F9': {'/Type': '/Font',\n",
       "    '/Subtype': '/Type1',\n",
       "    '/Name': '/F9',\n",
       "    '/Encoding': '/WinAnsiEncoding',\n",
       "    '/FirstChar': 31,\n",
       "    '/LastChar': 255,\n",
       "    '/Widths': [778,\n",
       "     250,\n",
       "     333,\n",
       "     555,\n",
       "     500,\n",
       "     500,\n",
       "     1000,\n",
       "     833,\n",
       "     278,\n",
       "     333,\n",
       "     333,\n",
       "     500,\n",
       "     570,\n",
       "     250,\n",
       "     333,\n",
       "     250,\n",
       "     278,\n",
       "     500,\n",
       "     500,\n",
       "     500,\n",
       "     500,\n",
       "     500,\n",
       "     500,\n",
       "     500,\n",
       "     500,\n",
       "     500,\n",
       "     500,\n",
       "     333,\n",
       "     333,\n",
       "     570,\n",
       "     570,\n",
       "     570,\n",
       "     500,\n",
       "     930,\n",
       "     722,\n",
       "     667,\n",
       "     722,\n",
       "     722,\n",
       "     667,\n",
       "     611,\n",
       "     778,\n",
       "     778,\n",
       "     389,\n",
       "     500,\n",
       "     778,\n",
       "     667,\n",
       "     944,\n",
       "     722,\n",
       "     778,\n",
       "     611,\n",
       "     778,\n",
       "     722,\n",
       "     556,\n",
       "     667,\n",
       "     722,\n",
       "     722,\n",
       "     1000,\n",
       "     722,\n",
       "     722,\n",
       "     667,\n",
       "     333,\n",
       "     278,\n",
       "     333,\n",
       "     581,\n",
       "     500,\n",
       "     333,\n",
       "     500,\n",
       "     556,\n",
       "     444,\n",
       "     556,\n",
       "     444,\n",
       "     333,\n",
       "     500,\n",
       "     556,\n",
       "     278,\n",
       "     333,\n",
       "     556,\n",
       "     278,\n",
       "     833,\n",
       "     556,\n",
       "     500,\n",
       "     556,\n",
       "     556,\n",
       "     444,\n",
       "     389,\n",
       "     333,\n",
       "     556,\n",
       "     500,\n",
       "     722,\n",
       "     500,\n",
       "     500,\n",
       "     444,\n",
       "     394,\n",
       "     220,\n",
       "     394,\n",
       "     520,\n",
       "     778,\n",
       "     500,\n",
       "     778,\n",
       "     333,\n",
       "     500,\n",
       "     500,\n",
       "     1000,\n",
       "     500,\n",
       "     500,\n",
       "     333,\n",
       "     1000,\n",
       "     556,\n",
       "     333,\n",
       "     1000,\n",
       "     778,\n",
       "     778,\n",
       "     778,\n",
       "     778,\n",
       "     333,\n",
       "     333,\n",
       "     500,\n",
       "     500,\n",
       "     350,\n",
       "     500,\n",
       "     1000,\n",
       "     333,\n",
       "     1000,\n",
       "     389,\n",
       "     333,\n",
       "     722,\n",
       "     778,\n",
       "     778,\n",
       "     722,\n",
       "     250,\n",
       "     333,\n",
       "     500,\n",
       "     500,\n",
       "     500,\n",
       "     500,\n",
       "     220,\n",
       "     500,\n",
       "     333,\n",
       "     747,\n",
       "     300,\n",
       "     500,\n",
       "     570,\n",
       "     333,\n",
       "     747,\n",
       "     500,\n",
       "     400,\n",
       "     549,\n",
       "     300,\n",
       "     300,\n",
       "     333,\n",
       "     576,\n",
       "     540,\n",
       "     250,\n",
       "     333,\n",
       "     300,\n",
       "     330,\n",
       "     500,\n",
       "     750,\n",
       "     750,\n",
       "     750,\n",
       "     500,\n",
       "     722,\n",
       "     722,\n",
       "     722,\n",
       "     722,\n",
       "     722,\n",
       "     722,\n",
       "     1000,\n",
       "     722,\n",
       "     667,\n",
       "     667,\n",
       "     667,\n",
       "     667,\n",
       "     389,\n",
       "     389,\n",
       "     389,\n",
       "     389,\n",
       "     722,\n",
       "     722,\n",
       "     778,\n",
       "     778,\n",
       "     778,\n",
       "     778,\n",
       "     778,\n",
       "     570,\n",
       "     778,\n",
       "     722,\n",
       "     722,\n",
       "     722,\n",
       "     722,\n",
       "     722,\n",
       "     611,\n",
       "     556,\n",
       "     500,\n",
       "     500,\n",
       "     500,\n",
       "     500,\n",
       "     500,\n",
       "     500,\n",
       "     722,\n",
       "     444,\n",
       "     444,\n",
       "     444,\n",
       "     444,\n",
       "     444,\n",
       "     278,\n",
       "     278,\n",
       "     278,\n",
       "     278,\n",
       "     500,\n",
       "     556,\n",
       "     500,\n",
       "     500,\n",
       "     500,\n",
       "     500,\n",
       "     500,\n",
       "     549,\n",
       "     500,\n",
       "     556,\n",
       "     556,\n",
       "     556,\n",
       "     556,\n",
       "     500,\n",
       "     556,\n",
       "     500],\n",
       "    '/BaseFont': '/TimesNewRomanPS-BoldMT',\n",
       "    '/FontDescriptor': {'/Type': '/FontDescriptor',\n",
       "     '/FontName': '/TimesNewRomanPS-BoldMT',\n",
       "     '/Ascent': 677,\n",
       "     '/CapHeight': 500,\n",
       "     '/Descent': -216,\n",
       "     '/Flags': 34,\n",
       "     '/FontBBox': [-558, -307, 2034, 1026],\n",
       "     '/ItalicAngle': 0,\n",
       "     '/StemV': 0,\n",
       "     '/AvgWidth': 427,\n",
       "     '/Leading': 150,\n",
       "     '/MaxWidth': 2592,\n",
       "     '/XHeight': 250,\n",
       "     '/FontFile': {'/Filter': ['/ASCII85Decode'],\n",
       "      '/Length1': 4690,\n",
       "      '/Length2': 46374,\n",
       "      '/Length3': 532}}},\n",
       "   '/F6': {'/Type': '/Font',\n",
       "    '/Subtype': '/Type1',\n",
       "    '/Name': '/F6',\n",
       "    '/Encoding': '/WinAnsiEncoding',\n",
       "    '/FirstChar': 31,\n",
       "    '/LastChar': 255,\n",
       "    '/Widths': [778,\n",
       "     250,\n",
       "     333,\n",
       "     408,\n",
       "     500,\n",
       "     500,\n",
       "     833,\n",
       "     778,\n",
       "     180,\n",
       "     333,\n",
       "     333,\n",
       "     500,\n",
       "     564,\n",
       "     250,\n",
       "     333,\n",
       "     250,\n",
       "     278,\n",
       "     500,\n",
       "     500,\n",
       "     500,\n",
       "     500,\n",
       "     500,\n",
       "     500,\n",
       "     500,\n",
       "     500,\n",
       "     500,\n",
       "     500,\n",
       "     278,\n",
       "     278,\n",
       "     564,\n",
       "     564,\n",
       "     564,\n",
       "     444,\n",
       "     921,\n",
       "     722,\n",
       "     667,\n",
       "     667,\n",
       "     722,\n",
       "     611,\n",
       "     556,\n",
       "     722,\n",
       "     722,\n",
       "     333,\n",
       "     389,\n",
       "     722,\n",
       "     611,\n",
       "     889,\n",
       "     722,\n",
       "     722,\n",
       "     556,\n",
       "     722,\n",
       "     667,\n",
       "     556,\n",
       "     611,\n",
       "     722,\n",
       "     722,\n",
       "     944,\n",
       "     722,\n",
       "     722,\n",
       "     611,\n",
       "     333,\n",
       "     278,\n",
       "     333,\n",
       "     469,\n",
       "     500,\n",
       "     333,\n",
       "     444,\n",
       "     500,\n",
       "     444,\n",
       "     500,\n",
       "     444,\n",
       "     333,\n",
       "     500,\n",
       "     500,\n",
       "     278,\n",
       "     278,\n",
       "     500,\n",
       "     278,\n",
       "     778,\n",
       "     500,\n",
       "     500,\n",
       "     500,\n",
       "     500,\n",
       "     333,\n",
       "     389,\n",
       "     278,\n",
       "     500,\n",
       "     500,\n",
       "     722,\n",
       "     500,\n",
       "     500,\n",
       "     444,\n",
       "     480,\n",
       "     200,\n",
       "     480,\n",
       "     541,\n",
       "     778,\n",
       "     500,\n",
       "     778,\n",
       "     333,\n",
       "     500,\n",
       "     444,\n",
       "     1000,\n",
       "     500,\n",
       "     500,\n",
       "     333,\n",
       "     1000,\n",
       "     556,\n",
       "     333,\n",
       "     889,\n",
       "     778,\n",
       "     778,\n",
       "     778,\n",
       "     778,\n",
       "     333,\n",
       "     333,\n",
       "     444,\n",
       "     444,\n",
       "     350,\n",
       "     500,\n",
       "     1000,\n",
       "     333,\n",
       "     980,\n",
       "     389,\n",
       "     333,\n",
       "     722,\n",
       "     778,\n",
       "     778,\n",
       "     722,\n",
       "     250,\n",
       "     333,\n",
       "     500,\n",
       "     500,\n",
       "     500,\n",
       "     500,\n",
       "     200,\n",
       "     500,\n",
       "     333,\n",
       "     760,\n",
       "     276,\n",
       "     500,\n",
       "     564,\n",
       "     333,\n",
       "     760,\n",
       "     500,\n",
       "     400,\n",
       "     549,\n",
       "     300,\n",
       "     300,\n",
       "     333,\n",
       "     576,\n",
       "     453,\n",
       "     250,\n",
       "     333,\n",
       "     300,\n",
       "     310,\n",
       "     500,\n",
       "     750,\n",
       "     750,\n",
       "     750,\n",
       "     444,\n",
       "     722,\n",
       "     722,\n",
       "     722,\n",
       "     722,\n",
       "     722,\n",
       "     722,\n",
       "     889,\n",
       "     667,\n",
       "     611,\n",
       "     611,\n",
       "     611,\n",
       "     611,\n",
       "     333,\n",
       "     333,\n",
       "     333,\n",
       "     333,\n",
       "     722,\n",
       "     722,\n",
       "     722,\n",
       "     722,\n",
       "     722,\n",
       "     722,\n",
       "     722,\n",
       "     564,\n",
       "     722,\n",
       "     722,\n",
       "     722,\n",
       "     722,\n",
       "     722,\n",
       "     722,\n",
       "     556,\n",
       "     500,\n",
       "     444,\n",
       "     444,\n",
       "     444,\n",
       "     444,\n",
       "     444,\n",
       "     444,\n",
       "     667,\n",
       "     444,\n",
       "     444,\n",
       "     444,\n",
       "     444,\n",
       "     444,\n",
       "     278,\n",
       "     278,\n",
       "     278,\n",
       "     278,\n",
       "     500,\n",
       "     500,\n",
       "     500,\n",
       "     500,\n",
       "     500,\n",
       "     500,\n",
       "     500,\n",
       "     549,\n",
       "     500,\n",
       "     500,\n",
       "     500,\n",
       "     500,\n",
       "     500,\n",
       "     500,\n",
       "     500,\n",
       "     500],\n",
       "    '/BaseFont': '/TimesNewRomanPSMT',\n",
       "    '/FontDescriptor': {'/Type': '/FontDescriptor',\n",
       "     '/FontName': '/TimesNewRomanPSMT',\n",
       "     '/Ascent': 693,\n",
       "     '/CapHeight': 500,\n",
       "     '/Descent': -216,\n",
       "     '/Flags': 34,\n",
       "     '/FontBBox': [-568, -307, 2028, 1007],\n",
       "     '/ItalicAngle': 0,\n",
       "     '/StemV': 0,\n",
       "     '/AvgWidth': 401,\n",
       "     '/Leading': 150,\n",
       "     '/MaxWidth': 2597,\n",
       "     '/XHeight': 250,\n",
       "     '/FontFile': {'/Filter': ['/ASCII85Decode'],\n",
       "      '/Length1': 4680,\n",
       "      '/Length2': 46205,\n",
       "      '/Length3': 532}}}},\n",
       "  '/ProcSet': ['/PDF', '/Text']},\n",
       " '/Parent': {'/Type': '/Pages',\n",
       "  '/Count': 1,\n",
       "  '/Kids': [IndirectObject(4, 0, 1935142773768)]}}"
      ]
     },
     "execution_count": 19,
     "metadata": {},
     "output_type": "execute_result"
    }
   ],
   "source": [
    "pdf_writer.add_page(first_page)"
   ]
  },
  {
   "cell_type": "code",
   "execution_count": 20,
   "id": "358280a2",
   "metadata": {},
   "outputs": [],
   "source": [
    "pdf_output = open(\"My_brand_new.pdf\", 'wb')"
   ]
  },
  {
   "cell_type": "code",
   "execution_count": 21,
   "id": "1c0c4be7",
   "metadata": {},
   "outputs": [
    {
     "data": {
      "text/plain": [
       "(False, <_io.BufferedWriter name='My_brand_new.pdf'>)"
      ]
     },
     "execution_count": 21,
     "metadata": {},
     "output_type": "execute_result"
    }
   ],
   "source": [
    "pdf_writer.write(pdf_output)"
   ]
  },
  {
   "cell_type": "code",
   "execution_count": 23,
   "id": "85457d97",
   "metadata": {},
   "outputs": [],
   "source": [
    "pdf_output.close()"
   ]
  },
  {
   "cell_type": "code",
   "execution_count": 24,
   "id": "8e13b884",
   "metadata": {},
   "outputs": [],
   "source": [
    "f.close()"
   ]
  },
  {
   "cell_type": "code",
   "execution_count": 25,
   "id": "de4ee3f4",
   "metadata": {},
   "outputs": [],
   "source": [
    "brand_new = open(\"My_brand_new.pdf\", \"rb\")"
   ]
  },
  {
   "cell_type": "code",
   "execution_count": 26,
   "id": "0415b7e8",
   "metadata": {},
   "outputs": [],
   "source": [
    "pdf_reader = PyPDF2.PdfReader(brand_new)"
   ]
  },
  {
   "cell_type": "code",
   "execution_count": 27,
   "id": "ef5d98e0",
   "metadata": {},
   "outputs": [
    {
     "data": {
      "text/plain": [
       "1"
      ]
     },
     "execution_count": 27,
     "metadata": {},
     "output_type": "execute_result"
    }
   ],
   "source": [
    "len(pdf_reader.pages)"
   ]
  },
  {
   "cell_type": "code",
   "execution_count": 28,
   "id": "e6adebcc",
   "metadata": {},
   "outputs": [],
   "source": [
    "f = open('US_Declaration.pdf', 'rb')\n",
    "pdf_text = []\n",
    "pdf_reader = PyPDF2.PdfReader(f)\n",
    "for p in range(len(pdf_reader.pages)):\n",
    "    page = pdf_reader.pages[p]\n",
    "    pdf_text.append(page.extract_text())\n",
    "f.close()"
   ]
  },
  {
   "cell_type": "code",
   "execution_count": 30,
   "id": "3bfdd3b2",
   "metadata": {},
   "outputs": [
    {
     "data": {
      "text/plain": [
       "5"
      ]
     },
     "execution_count": 30,
     "metadata": {},
     "output_type": "execute_result"
    }
   ],
   "source": [
    "len(pdf_text)"
   ]
  },
  {
   "cell_type": "code",
   "execution_count": 31,
   "id": "c80a4381",
   "metadata": {},
   "outputs": [
    {
     "name": "stdout",
     "output_type": "stream",
     "text": [
      "Declaration of Independence\n",
      "IN CONGRESS, July 4, 1776.  \n",
      "The unanimous Declaration of the thirteen united States of America,  \n",
      "When in the Course of human events, it becomes necessary for one people to dissolve thepolitical bands which have connected them with another, and to assume among the powers of theearth, the separate and equal station to which the Laws of Nature and of Nature's God entitlethem, a decent respect to the opinions of mankind requires that they should declare the causeswhich impel them to the separation. We hold these truths to be self-evident, that all men are created equal, that they are endowed bytheir Creator with certain unalienable Rights, that among these are Life, Liberty and the pursuit\n",
      "of Happiness.— \u0014That to secure these rights, Governments are instituted among Men, derivingtheir just powers from the consent of the governed,—  \u0014That whenever any Form of Government\n",
      "becomes destructive of these ends, it is the Right of the People to alter or to abolish it, and to\n",
      "institute new Government, laying its foundation on such principles and organizing its powers in\n",
      "such form, as to them shall seem most likely to effect their Safety and Happiness. Prudence,indeed, will dictate that Governments long established should not be changed for light andtransient causes; and accordingly all experience hath shewn, that mankind are more disposed to\n",
      "suffer, while evils are sufferable, than to right themselves by abolishing the forms to which theyare accustomed. But when a long train of abuses and usurpations, pursuing invariably the same\n",
      "Object evinces a design to reduce them under absolute Despotism, it is their right, it is their duty,\n",
      "to throw off such Government, and to provide new Guards for their future securit y.— \u0014Such has\n",
      "been the patient sufferance of these Colonies; and such is now the necessity which constrainsthem to alter their former Systems of Government. The history of the present King of GreatBritain is a history of repeated injuries and usurpations, all having in direct object the\n",
      "establishment of an absolute Tyranny over these States. To prove this, let Facts be submitted to a\n",
      "candid world. \n",
      "He has refused his Assent to Laws, the most wholesome and necessary for the\n",
      "public good.He has forbidden his Governors to pass Laws of immediate and pressingimportance, unless suspended in their operation till his Assent should be obtained;and when so suspended, he has utterly neglected to attend to them.He has refused to pass other Laws for the accommodation of large districts of\n",
      "people, unless those people would relinquish the right of Representation in theLegislature, a right inestimable to them and formidable to tyrants only. He has called together legislative bodies at places unusual, uncomfortable, and distantfrom the depository of their public Records, for the sole purpose of fatiguing them into\n",
      "compliance with his measures.\n",
      "\n",
      "%%%%%%%%%%%%%%%%%%%%%%%%%%%%%%%%%\n",
      "\n",
      "He has dissolved Re presentative Ho uses repeatedly , for opposing wit h manly\n",
      "firmness his invasions on the rights of the people.\n",
      "He has refused for a long time, after such dissolutions, to cause others to be\n",
      "elected; whereby the Leg islative powers, incapable of Annihilation, have returned\n",
      "to the People at lar ge for their exe rcise; the State r emaining in the me an time\n",
      "exposed to all the dangers of invasion from without, and convulsions within.\n",
      "He has endeavou red to prevent the  population of these  States; for that pur pose\n",
      "obstructing the L aws for Natural ization of Foreig ners; refusing  to pass others to\n",
      "encourage their migrations hither, and raising the conditions of new\n",
      "Appropriations of  Lands.\n",
      "He has obstructed the Administration of Justice, by refusing his Assent to Laws\n",
      "for establishing  Judiciary pow ers.\n",
      "He has made Judge s dependent on his Wil l alone, for the te nure of their off ices,\n",
      "and the amount and  payment of t heir salaries.\n",
      "He has erected  a multitude of New  Offices, and se nt hither swarms of  Officers to\n",
      "harrass our people, and eat out their substance.\n",
      "He has kept among us, in times of peace, Standing Armies without the Consent of\n",
      "our legislature s.\n",
      "He has affected to render the Military independent of a nd superior to the Civil power.\n",
      "He has combined with others to subject us to a jurisdiction foreign to our\n",
      "constitution, and unacknowledged by our laws; giving his Assent to their Acts of\n",
      "pretended Legislation:\n",
      "For Quartering  large bodies of  armed troops amon g us:\n",
      "For protecting them, by a mock Trial, from punishment for any  Murders which\n",
      "they should c ommit on the Inha bitants of these Sta tes:\n",
      "For cutting off our Trade with all parts of the world:\n",
      "For imposing Taxe s on us without our Con sent: For deprivi ng us in many  cases,\n",
      "of the benefits of T rial by J ury:\n",
      "For transporting us beyond Seas to be tried for pretended of fences\n",
      "For abolishing the free System of English L aws in a neighbouring Province,\n",
      "establishing therein an Arbitrary government, and e nlarging its Boundaries so as\n",
      "\n",
      "%%%%%%%%%%%%%%%%%%%%%%%%%%%%%%%%%\n",
      "\n",
      "to render it at onc e an example and fi t instrument for intr oducing the same\n",
      "absolute rule into  these Colonies:\n",
      "For taking away our Charters, abolishing our most valuable L aws, and altering\n",
      "fundamentally  the Forms of our G overnments:\n",
      "For suspending  our own Leg islatures, and de claring themse lves invested with\n",
      "power to legislate for us in all cases whatsoever.\n",
      "He has abdicated Government here, by declar ing us out of his Protection and\n",
      "waging War ag ainst us.\n",
      "He has plundered our seas, ravaged our Coasts, burnt our towns, and destroy ed the\n",
      "lives of our people.\n",
      "He is at this time transporting large Armies of foreign Mercenaries to compleat\n",
      "the works of death, desolation and tyranny , already begun with circumstances of\n",
      "Cruelty & pe rfidy scar cely para lleled in the most ba rbarous ages,  and totally\n",
      "unworthy of the Head of a civilized nation.\n",
      "He has constrained our fellow Citizens taken Captive on the high Seas to bear\n",
      "Arms against their Country, to become the executioners of their friends and\n",
      "Brethren, or to  fall themselves by  their Hands.\n",
      "He has excited domestic insurrections amongst us, and has endeavoured to bring\n",
      "on the inhabitants of our frontiers, the merciless Indian Savages, whose known\n",
      "rule of warfare, is an undistinguished destruction of all ages, sexes and conditions. \n",
      "In every  stage of these O ppressions We have  Petitioned for Redr ess in the most humble  terms:\n",
      "Our repeated Pe titions have been a nswered only  by repeate d injury. A Pr ince whose char acter is\n",
      "thus marked by every ac t which may define a Tyra nt, is unfit to be the ruler of a free people. \n",
      "Nor have We been wanting in attentions to our Brittish brethren. We have warned them from\n",
      "time to time  of attemp ts by th eir legi slature t o extend an  unwarra ntable jur isdiction  over us. We\n",
      "have reminded them of the circumstances of our emigration and settlement here. We have\n",
      "appealed to their native justice and magnanimity, and we have c onjured them by the ties of our\n",
      "common kindred to disavow these usurpations, which, would inevitably interrupt our\n",
      "connections and correspondence. They too have bee n deaf to the voice of justice and of\n",
      "consanguinity. We must, therefore, acquiesce in the necessity , which denounces our Separation,\n",
      "and hold them, as we hold the rest of mankind, Enemies in War, in Peace Friends. \n",
      "We, therefore, t he Representativ es of the united Sta tes of America, i n General Congr ess,\n",
      "Assembled, appealing to the Supreme Judge of the world for the rectitude of our intentions, do,\n",
      "in the Name, and by Authority of the g ood People of these Colonies, solemnly publish and\n",
      "declare, That th ese United Colonie s are, and of Rig ht ought to be Fre e and Indepe ndent States;\n",
      "that they are Absolved from all Allegiance to the British Crown, and that a ll political connection\n",
      "\n",
      "%%%%%%%%%%%%%%%%%%%%%%%%%%%%%%%%%\n",
      "\n",
      "between them and the State of Great Britain, is and ought to be totally dissolved; and that as Freeand Independent States, they have full Power to levy War, conclude Peace, contract Alliances,\n",
      "establish Commerce, and to do all other Acts and Things which Independent States may of rightdo. And for the support of this Declaration, with a firm reliance on the protection of divineProvidence, we mutually pledge to each other our Lives, our Fortunes and our sacred Honor.[The 56 signatures on the Declaration were arranged in six columns: ] \n",
      "[Column 1] Georgia:\n",
      "   Button Gwinnett\n",
      "   Lyman Hall\n",
      "   George Walton \n",
      "[Column 2] North Carolina:\n",
      "   William Hooper\n",
      "   Joseph Hewes\n",
      "   John Penn\n",
      " South Carolina:\n",
      "   Edward Ru tledge\n",
      "   Thomas Heyward, Jr.\n",
      "  Thomas Lynch, Jr.\n",
      "  Arthur Middleton \n",
      "[Column 3] Massachusetts:\n",
      "   John Hancock Maryland:\n",
      "   Samuel Chase   William Paca   Thomas Stone   Charles Carroll of Carrollton Virginia:\n",
      "   George Wythe   Richard Henry Lee   Thomas Jefferson   Benjamin Harrison   Thomas Nelson, Jr.   Francis Lightfoot Lee   Carter Braxton [Column 4] Pennsylvania:\n",
      "  Robert Morris   Benjamin Rush\n",
      "   Benjamin Fran klin\n",
      "   John Morton\n",
      "\n",
      "%%%%%%%%%%%%%%%%%%%%%%%%%%%%%%%%%\n",
      "\n",
      "   George Clymer\n",
      "   James Smith\n",
      "   George Taylor\n",
      "   James Wilson\n",
      "   George Ross\n",
      " Delaware:\n",
      "   Caesar Rodney\n",
      "   George Read\n",
      "   Thomas McKean \n",
      "[Column 5] New York:\n",
      "   Wi lliam Floyd\n",
      "   Philip Livingston\n",
      "   Francis L ewis\n",
      "   Lewis Morris\n",
      " New Jersey:\n",
      "   Richard Stockton\n",
      "   John Witherspoon\n",
      "   Francis Hopkinson\n",
      "   John Hart\n",
      "   Abraham Clark \n",
      "[Column 6] New Hampshire:\n",
      "   Josiah Bartlett\n",
      "   William Whipple\n",
      " Massachusetts:\n",
      "   Samuel Adams\n",
      "   John Adams\n",
      "   Robert Treat Paine\n",
      "   Elbridge Gerry\n",
      " Rhode Island:\n",
      "   Stephen Hopkins\n",
      "   William Ellery\n",
      " Connecticut:\n",
      "   Roger Sherman\n",
      "   Samuel Huntington\n",
      "   William Williams\n",
      "   Oliver Wolcott\n",
      " New Hampshire:\n",
      " Matthew Thornton\n",
      " \n",
      "\n",
      "%%%%%%%%%%%%%%%%%%%%%%%%%%%%%%%%%\n",
      "\n"
     ]
    }
   ],
   "source": [
    "for p in pdf_text:\n",
    "    print(p)\n",
    "    print(\"\\n%%%%%%%%%%%%%%%%%%%%%%%%%%%%%%%%%\\n\")"
   ]
  },
  {
   "cell_type": "markdown",
   "id": "fd07b13e",
   "metadata": {},
   "source": [
    "### Regular Expressions"
   ]
  },
  {
   "cell_type": "code",
   "execution_count": 32,
   "id": "5cb61b5f",
   "metadata": {},
   "outputs": [],
   "source": [
    "text = \"The phone number for the vet is 469-555-1234. Call soon!\""
   ]
  },
  {
   "cell_type": "code",
   "execution_count": 33,
   "id": "3cf7af01",
   "metadata": {},
   "outputs": [
    {
     "data": {
      "text/plain": [
       "True"
      ]
     },
     "execution_count": 33,
     "metadata": {},
     "output_type": "execute_result"
    }
   ],
   "source": [
    "\"469-555-1234\" in text"
   ]
  },
  {
   "cell_type": "code",
   "execution_count": 34,
   "id": "13d749f9",
   "metadata": {},
   "outputs": [],
   "source": [
    "import re"
   ]
  },
  {
   "cell_type": "code",
   "execution_count": 37,
   "id": "21720cf6",
   "metadata": {},
   "outputs": [],
   "source": [
    "pattern = \"phone\"\n",
    "my_match = re.search(pattern, text)"
   ]
  },
  {
   "cell_type": "code",
   "execution_count": 38,
   "id": "1c7a4a7e",
   "metadata": {},
   "outputs": [
    {
     "data": {
      "text/plain": [
       "(4, 9)"
      ]
     },
     "execution_count": 38,
     "metadata": {},
     "output_type": "execute_result"
    }
   ],
   "source": [
    "my_match.span()"
   ]
  },
  {
   "cell_type": "code",
   "execution_count": 39,
   "id": "6bb982d2",
   "metadata": {},
   "outputs": [
    {
     "data": {
      "text/plain": [
       "4"
      ]
     },
     "execution_count": 39,
     "metadata": {},
     "output_type": "execute_result"
    }
   ],
   "source": [
    "my_match.start()"
   ]
  },
  {
   "cell_type": "code",
   "execution_count": 40,
   "id": "8f51c976",
   "metadata": {},
   "outputs": [
    {
     "data": {
      "text/plain": [
       "9"
      ]
     },
     "execution_count": 40,
     "metadata": {},
     "output_type": "execute_result"
    }
   ],
   "source": [
    "my_match.end()"
   ]
  },
  {
   "cell_type": "code",
   "execution_count": 41,
   "id": "1875df1f",
   "metadata": {},
   "outputs": [],
   "source": [
    "text = \"my phone is a new phone\""
   ]
  },
  {
   "cell_type": "code",
   "execution_count": 42,
   "id": "5bd48c3e",
   "metadata": {},
   "outputs": [],
   "source": [
    "match = re.search(pattern, text) #first match only"
   ]
  },
  {
   "cell_type": "code",
   "execution_count": 43,
   "id": "a9533023",
   "metadata": {},
   "outputs": [],
   "source": [
    "all_matches = re.findall('phone', text)"
   ]
  },
  {
   "cell_type": "code",
   "execution_count": 44,
   "id": "1cf56cde",
   "metadata": {},
   "outputs": [
    {
     "data": {
      "text/plain": [
       "['phone', 'phone']"
      ]
     },
     "execution_count": 44,
     "metadata": {},
     "output_type": "execute_result"
    }
   ],
   "source": [
    "all_matches"
   ]
  },
  {
   "cell_type": "code",
   "execution_count": 45,
   "id": "ebd8e78e",
   "metadata": {},
   "outputs": [
    {
     "name": "stdout",
     "output_type": "stream",
     "text": [
      "(3, 8)\n",
      "(18, 23)\n"
     ]
    }
   ],
   "source": [
    "for match in re.finditer('phone', text):\n",
    "    print(match.span())"
   ]
  },
  {
   "cell_type": "code",
   "execution_count": 47,
   "id": "fd6698ef",
   "metadata": {},
   "outputs": [],
   "source": [
    "text = \"The phone number for the vet is 469-555-1234. Call soon!\""
   ]
  },
  {
   "cell_type": "code",
   "execution_count": 48,
   "id": "1cf607c7",
   "metadata": {},
   "outputs": [],
   "source": [
    "pattern = r'\\d\\d\\d-\\d\\d\\d-\\d\\d\\d\\d'"
   ]
  },
  {
   "cell_type": "code",
   "execution_count": 50,
   "id": "7c7d794b",
   "metadata": {},
   "outputs": [],
   "source": [
    "phone_number = re.search(pattern, text)"
   ]
  },
  {
   "cell_type": "code",
   "execution_count": 51,
   "id": "122ac0a8",
   "metadata": {},
   "outputs": [
    {
     "data": {
      "text/plain": [
       "<re.Match object; span=(32, 44), match='469-555-1234'>"
      ]
     },
     "execution_count": 51,
     "metadata": {},
     "output_type": "execute_result"
    }
   ],
   "source": [
    "phone_number"
   ]
  },
  {
   "cell_type": "code",
   "execution_count": 52,
   "id": "f1c6086b",
   "metadata": {},
   "outputs": [
    {
     "data": {
      "text/plain": [
       "'469-555-1234'"
      ]
     },
     "execution_count": 52,
     "metadata": {},
     "output_type": "execute_result"
    }
   ],
   "source": [
    "phone_number.group()"
   ]
  },
  {
   "cell_type": "code",
   "execution_count": 53,
   "id": "5e35073e",
   "metadata": {},
   "outputs": [],
   "source": [
    "pattern = r'\\d{3}-\\d{3}-\\d{4}'"
   ]
  },
  {
   "cell_type": "code",
   "execution_count": 56,
   "id": "3b056107",
   "metadata": {},
   "outputs": [],
   "source": [
    "my_match = re.search(pattern, text)"
   ]
  },
  {
   "cell_type": "code",
   "execution_count": 57,
   "id": "d7b9c4ee",
   "metadata": {},
   "outputs": [
    {
     "data": {
      "text/plain": [
       "'469-555-1234'"
      ]
     },
     "execution_count": 57,
     "metadata": {},
     "output_type": "execute_result"
    }
   ],
   "source": [
    "my_match.group()"
   ]
  },
  {
   "cell_type": "code",
   "execution_count": 58,
   "id": "80e0691b",
   "metadata": {},
   "outputs": [
    {
     "data": {
      "text/plain": [
       "<re.Match object; span=(9, 12), match='dog'>"
      ]
     },
     "execution_count": 58,
     "metadata": {},
     "output_type": "execute_result"
    }
   ],
   "source": [
    "re.search(r\"dog|cat\", \"I pet my dog\")"
   ]
  },
  {
   "cell_type": "code",
   "execution_count": 59,
   "id": "bd321741",
   "metadata": {},
   "outputs": [
    {
     "data": {
      "text/plain": [
       "['cat', 'hat', 'sat']"
      ]
     },
     "execution_count": 59,
     "metadata": {},
     "output_type": "execute_result"
    }
   ],
   "source": [
    "re.findall(r\".at\", \"The cat in the hat sat\")"
   ]
  },
  {
   "cell_type": "code",
   "execution_count": 60,
   "id": "af690e53",
   "metadata": {},
   "outputs": [
    {
     "data": {
      "text/plain": [
       "['2']"
      ]
     },
     "execution_count": 60,
     "metadata": {},
     "output_type": "execute_result"
    }
   ],
   "source": [
    "re.findall(r\"\\d$\", \"This ends with a number 2\")"
   ]
  },
  {
   "cell_type": "code",
   "execution_count": 61,
   "id": "13a99ad0",
   "metadata": {},
   "outputs": [
    {
     "data": {
      "text/plain": [
       "['1']"
      ]
     },
     "execution_count": 61,
     "metadata": {},
     "output_type": "execute_result"
    }
   ],
   "source": [
    "re.findall(r\"^\\d\", \"1 is the first in this sentence\")"
   ]
  },
  {
   "cell_type": "code",
   "execution_count": 64,
   "id": "d3587b2e",
   "metadata": {},
   "outputs": [
    {
     "data": {
      "text/plain": [
       "['there are ', ' numbers ', ' inside ', ' this sentence']"
      ]
     },
     "execution_count": 64,
     "metadata": {},
     "output_type": "execute_result"
    }
   ],
   "source": [
    "phrase = \"there are 3 numbers 34 inside 5 this sentence\"\n",
    "re.findall(r\"[^\\d]+\", phrase) #bracket negates the match"
   ]
  },
  {
   "cell_type": "code",
   "execution_count": 68,
   "id": "d91c0581",
   "metadata": {},
   "outputs": [],
   "source": [
    "test_phrase = \"This is a string! But it has punctuation. How do we remove it?\"\n",
    "mylist = re.findall(r\"[^!.? ]+\", test_phrase)"
   ]
  },
  {
   "cell_type": "code",
   "execution_count": 70,
   "id": "5ae74968",
   "metadata": {},
   "outputs": [
    {
     "data": {
      "text/plain": [
       "'This is a string But it has punctuation How do we remove it'"
      ]
     },
     "execution_count": 70,
     "metadata": {},
     "output_type": "execute_result"
    }
   ],
   "source": [
    "' '.join(mylist)"
   ]
  },
  {
   "cell_type": "code",
   "execution_count": 71,
   "id": "2a716244",
   "metadata": {},
   "outputs": [],
   "source": [
    "text = \"Only find the hyphen-words. Where are the long-ish dash words?\""
   ]
  },
  {
   "cell_type": "code",
   "execution_count": 72,
   "id": "bcf82360",
   "metadata": {},
   "outputs": [
    {
     "data": {
      "text/plain": [
       "['hyphen-words', 'long-ish']"
      ]
     },
     "execution_count": 72,
     "metadata": {},
     "output_type": "execute_result"
    }
   ],
   "source": [
    "re.findall(r'[\\w]+-[\\w]+', text)"
   ]
  },
  {
   "cell_type": "code",
   "execution_count": null,
   "id": "5d1d9423",
   "metadata": {},
   "outputs": [],
   "source": []
  }
 ],
 "metadata": {
  "kernelspec": {
   "display_name": "nlp_course",
   "language": "python",
   "name": "nlp_course"
  },
  "language_info": {
   "codemirror_mode": {
    "name": "ipython",
    "version": 3
   },
   "file_extension": ".py",
   "mimetype": "text/x-python",
   "name": "python",
   "nbconvert_exporter": "python",
   "pygments_lexer": "ipython3",
   "version": "3.7.16"
  }
 },
 "nbformat": 4,
 "nbformat_minor": 5
}
